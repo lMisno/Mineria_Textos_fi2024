{
  "nbformat": 4,
  "nbformat_minor": 0,
  "metadata": {
    "colab": {
      "provenance": [],
      "authorship_tag": "ABX9TyM1WpqDJBysQQZWaqYhIrDj",
      "include_colab_link": true
    },
    "kernelspec": {
      "name": "python3",
      "display_name": "Python 3"
    },
    "language_info": {
      "name": "python"
    }
  },
  "cells": [
    {
      "cell_type": "markdown",
      "metadata": {
        "id": "view-in-github",
        "colab_type": "text"
      },
      "source": [
        "<a href=\"https://colab.research.google.com/github/reyesguerrerofi/Mineria_Textos_fi2024/blob/main/PRIMER_PRUEBA.ipynb\" target=\"_parent\"><img src=\"https://colab.research.google.com/assets/colab-badge.svg\" alt=\"Open In Colab\"/></a>"
      ]
    },
    {
      "cell_type": "markdown",
      "source": [
        "# Prueba de herramientas Mineria de Textos 2025-1\n",
        "\n",
        "## 1.- Que hace cada herramienta?:\n",
        "\n",
        "- Pandas\n",
        "- Polar\n",
        "- Scikit Learn\n",
        "- Gensin\n",
        "- NLTK\n",
        "- SpaCy"
      ],
      "metadata": {
        "id": "kckXQ0NoLN5r"
      }
    },
    {
      "cell_type": "code",
      "execution_count": null,
      "metadata": {
        "id": "euIRFiB-KurJ"
      },
      "outputs": [],
      "source": []
    }
  ]
}